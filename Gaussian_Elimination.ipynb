{
  "nbformat": 4,
  "nbformat_minor": 0,
  "metadata": {
    "colab": {
      "provenance": [],
      "authorship_tag": "ABX9TyNV5T2T9tK2xYDdowQXxKOs",
      "include_colab_link": true
    },
    "kernelspec": {
      "name": "python3",
      "display_name": "Python 3"
    },
    "language_info": {
      "name": "python"
    }
  },
  "cells": [
    {
      "cell_type": "markdown",
      "metadata": {
        "id": "view-in-github",
        "colab_type": "text"
      },
      "source": [
        "<a href=\"https://colab.research.google.com/github/meDOBBY21/MDSC-101/blob/main/Gaussian_Elimination.ipynb\" target=\"_parent\"><img src=\"https://colab.research.google.com/assets/colab-badge.svg\" alt=\"Open In Colab\"/></a>"
      ]
    },
    {
      "cell_type": "markdown",
      "source": [
        "#Gaussian Elemination"
      ],
      "metadata": {
        "id": "-3w40Zku1BNE"
      }
    },
    {
      "cell_type": "code",
      "execution_count": 1,
      "metadata": {
        "id": "QKv03_WrNO-y"
      },
      "outputs": [],
      "source": [
        "def create_matrix(m,n):\n",
        "\tmatrix=[]\n",
        "\tfor i in range(m):\n",
        "\t\ttemp=0\n",
        "\t\trow=[]\n",
        "\t\twhile(temp!=n):\n",
        "\t\t\trow = list(map(int,input('ai\\'s and b of equation-{}:'.format(i+1)).split()))\n",
        "\t\t\ttemp=len(row)\n",
        "\t\tmatrix.append(row)\n",
        "\treturn matrix"
      ]
    },
    {
      "cell_type": "code",
      "source": [
        "def display(matrix):\n",
        "\tprint()\n",
        "\tfor row in matrix:\n",
        "\t\tfor j in range(len(row)):\n",
        "\t\t\tif j+2==len(row):\n",
        "\t\t\t\tprint(row[j],end='|')\n",
        "\t\t\telse:\n",
        "\t\t\t\tprint(row[j],end=' ')\n",
        "\t\tprint()\n",
        "\tprint()"
      ],
      "metadata": {
        "id": "wkqOOdG0PIQ1"
      },
      "execution_count": 2,
      "outputs": []
    },
    {
      "cell_type": "code",
      "source": [
        "def gauss_elemination(matrix):\n",
        "    m=len(matrix)\n",
        "    n=len(matrix[0])\n",
        "    print(\"Original:\")\n",
        "    display(matrix)\n",
        "    step=1\n",
        "    for j in range(n-1):\n",
        "        i=j\n",
        "        while(i<m and matrix[i][j]==0):\n",
        "            i+=1\n",
        "        if i==m:\n",
        "            continue\n",
        "        if i!=j:\n",
        "            t=matrix[i]\n",
        "            matrix[i]=matrix[j]\n",
        "            matrix[j]=t\n",
        "            print(\"Step-{}:\".format(step))\n",
        "            step+=1\n",
        "            display(matrix)\n",
        "        i=j\n",
        "        for k in range(j+1,m):\n",
        "            if matrix[k][j]!=0:\n",
        "                r1=[matrix[k][_]*matrix[j][i] for _ in range(len(matrix[k]))]\n",
        "                r2=[matrix[j][_]*matrix[k][i] for _ in range(len(matrix[k]))]\n",
        "                temp=[r1[_]-r2[_] for _ in range(len(r1))]\n",
        "                matrix[k]=temp\n",
        "                print(\"Step-{}:\".format(step))\n",
        "                step+=1\n",
        "                display(matrix)\n",
        "    mat2=matrix.copy()\n",
        "\n",
        "    for j in range(n-1):\n",
        "        i=j\n",
        "        while(i<m and matrix[i][j]==0):\n",
        "            i+=1\n",
        "        if i==m:\n",
        "            continue\n",
        "        pivot=matrix[i][j]\n",
        "        matrix[i]=[_/pivot for _ in matrix[i]]\n",
        "\n",
        "        for k in range(i):\n",
        "            r1=[_*matrix[k][j] for _ in matrix[i]]\n",
        "            temp=[matrix[k][_]-r1[_] for _ in range(n)]\n",
        "            matrix[k]=temp\n",
        "\n",
        "    sol=[]\n",
        "    for row in matrix:\n",
        "        for j in range(len(row)):\n",
        "            if j==len(row)-1:\n",
        "                sol.append(row[j])\n",
        "    print(\"Solution:\",sol)\n"
      ],
      "metadata": {
        "id": "WT4IvG0UhJAP"
      },
      "execution_count": 44,
      "outputs": []
    },
    {
      "cell_type": "code",
      "source": [
        "m2=[\n",
        "    [0,2,3,100],\n",
        "    [1,4,8,20],\n",
        "    [0,8,27,0]\n",
        "]\n",
        "gauss_elemination(m2)\n"
      ],
      "metadata": {
        "colab": {
          "base_uri": "https://localhost:8080/"
        },
        "id": "IQ67MWhOgrDl",
        "outputId": "826304d8-c37a-43aa-be50-1163353da0f4"
      },
      "execution_count": 45,
      "outputs": [
        {
          "output_type": "stream",
          "name": "stdout",
          "text": [
            "Original:\n",
            "\n",
            "0 2 3|100 \n",
            "1 4 8|20 \n",
            "0 8 27|0 \n",
            "\n",
            "Step-1:\n",
            "\n",
            "1 4 8|20 \n",
            "0 2 3|100 \n",
            "0 8 27|0 \n",
            "\n",
            "Step-2:\n",
            "\n",
            "1 4 8|20 \n",
            "0 2 3|100 \n",
            "0 0 30|-800 \n",
            "\n",
            "Solution: [-126.66666666666666, 90.0, -26.666666666666668]\n"
          ]
        }
      ]
    },
    {
      "cell_type": "code",
      "source": [
        "num=int(input('Enter the Number of unknowns:'))\n",
        "m1=create_matrix(num,num+1)"
      ],
      "metadata": {
        "colab": {
          "base_uri": "https://localhost:8080/"
        },
        "id": "2KwaQdtIABve",
        "outputId": "4977d0ea-105e-468c-8ab7-6071a10295f5"
      },
      "execution_count": 50,
      "outputs": [
        {
          "name": "stdout",
          "output_type": "stream",
          "text": [
            "Enter the Number of unknowns:2\n",
            "ai's and b of equation-1:0 1\n",
            "ai's and b of equation-1:0 1 0\n",
            "ai's and b of equation-2:2 2 0\n"
          ]
        }
      ]
    },
    {
      "cell_type": "code",
      "source": [
        "gauss_elemination(m1)"
      ],
      "metadata": {
        "colab": {
          "base_uri": "https://localhost:8080/"
        },
        "id": "7rNcF79yBJfU",
        "outputId": "6967fc8c-6e73-4af0-b471-18521813ad72"
      },
      "execution_count": 51,
      "outputs": [
        {
          "output_type": "stream",
          "name": "stdout",
          "text": [
            "Original:\n",
            "\n",
            "0 1|0 \n",
            "2 2|0 \n",
            "\n",
            "Step-1:\n",
            "\n",
            "2 2|0 \n",
            "0 1|0 \n",
            "\n",
            "Solution: [0.0, 0.0]\n"
          ]
        }
      ]
    }
  ]
}