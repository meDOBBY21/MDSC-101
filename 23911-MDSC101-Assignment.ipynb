{
  "nbformat": 4,
  "nbformat_minor": 0,
  "metadata": {
    "colab": {
      "provenance": [],
      "authorship_tag": "ABX9TyMCKyWNXgtcDXLLyjg3u8PH",
      "include_colab_link": true
    },
    "kernelspec": {
      "name": "python3",
      "display_name": "Python 3"
    },
    "language_info": {
      "name": "python"
    }
  },
  "cells": [
    {
      "cell_type": "markdown",
      "metadata": {
        "id": "view-in-github",
        "colab_type": "text"
      },
      "source": [
        "<a href=\"https://colab.research.google.com/github/meDOBBY21/MDSC-101/blob/main/23911-MDSC101-Assignment.ipynb\" target=\"_parent\"><img src=\"https://colab.research.google.com/assets/colab-badge.svg\" alt=\"Open In Colab\"/></a>"
      ]
    },
    {
      "cell_type": "code",
      "execution_count": null,
      "metadata": {
        "id": "hUwbiu7BFn8Z"
      },
      "outputs": [],
      "source": [
        "import numpy.linalg as la\n",
        "import numpy as np"
      ]
    },
    {
      "cell_type": "code",
      "source": [
        "def display(matrix):\n",
        "\tprint()\n",
        "\tfor i in matrix:\n",
        "\t\tprint(i)\n",
        "\tprint()"
      ],
      "metadata": {
        "id": "faqonvmoGe9m"
      },
      "execution_count": null,
      "outputs": []
    },
    {
      "cell_type": "code",
      "source": [
        "def createMatrix():\n",
        "    m,n=map(int,input('Enter matrix dim:').split())\n",
        "\n",
        "    matrix=np.empty((m,n))\n",
        "    for i in range(m):\n",
        "        for j in range(n):\n",
        "            value = float(input(f\"Enter the value for element ({i}, {j}): \"))\n",
        "            matrix[i, j] = value\n",
        "    return matrix"
      ],
      "metadata": {
        "id": "fvQkTSt6FwFI"
      },
      "execution_count": null,
      "outputs": []
    },
    {
      "cell_type": "code",
      "source": [
        "matrix=createMatrix()\n",
        "eval,evect=la.eig(matrix)\n",
        "eval,evect"
      ],
      "metadata": {
        "colab": {
          "base_uri": "https://localhost:8080/"
        },
        "id": "E8T1ki8QGlTL",
        "outputId": "39a16a76-8a38-400e-81d5-b44f4bcb6c6b"
      },
      "execution_count": null,
      "outputs": [
        {
          "name": "stdout",
          "output_type": "stream",
          "text": [
            "Enter matrix dim: 1 1\n",
            "Enter the value for element (0, 0): 1\n"
          ]
        },
        {
          "output_type": "execute_result",
          "data": {
            "text/plain": [
              "(array([1.]), array([[1.]]))"
            ]
          },
          "metadata": {},
          "execution_count": 100
        }
      ]
    },
    {
      "cell_type": "code",
      "source": [
        "mat=createMatrix()\n",
        "matT=mat.transpose()\n",
        "\n",
        "mat,matT"
      ],
      "metadata": {
        "colab": {
          "base_uri": "https://localhost:8080/"
        },
        "id": "GLGDaMSxOwS8",
        "outputId": "4413c778-7ac1-4e57-c41f-e55e4bd8cb41"
      },
      "execution_count": null,
      "outputs": [
        {
          "name": "stdout",
          "output_type": "stream",
          "text": [
            "Enter matrix dim:3 2\n",
            "Enter the value for element (0, 0): 1\n",
            "Enter the value for element (0, 1): 2\n",
            "Enter the value for element (1, 0): 3\n",
            "Enter the value for element (1, 1): 4\n",
            "Enter the value for element (2, 0): 5\n",
            "Enter the value for element (2, 1): 6\n"
          ]
        },
        {
          "output_type": "execute_result",
          "data": {
            "text/plain": [
              "(array([[1., 2.],\n",
              "        [3., 4.],\n",
              "        [5., 6.]]),\n",
              " array([[1., 3., 5.],\n",
              "        [2., 4., 6.]]))"
            ]
          },
          "metadata": {},
          "execution_count": 106
        }
      ]
    },
    {
      "cell_type": "markdown",
      "source": [
        "#U\n"
      ],
      "metadata": {
        "id": "_BtE2R4YQTK7"
      }
    },
    {
      "cell_type": "code",
      "source": [
        "temp=mat@matT\n",
        "e1,U=la.eig(temp)\n",
        "for i,e in enumerate(e1):\n",
        "    e1[i]=round(e,8)\n",
        "e1,U\n"
      ],
      "metadata": {
        "colab": {
          "base_uri": "https://localhost:8080/"
        },
        "id": "whH5L0lpPQ5y",
        "outputId": "04618fff-7708-4ed2-8145-20bb180ed009"
      },
      "execution_count": null,
      "outputs": [
        {
          "output_type": "execute_result",
          "data": {
            "text/plain": [
              "(array([90.73549491,  0.26450509,  0.        ]),\n",
              " array([[-0.2298477 , -0.88346102,  0.40824829],\n",
              "        [-0.52474482, -0.24078249, -0.81649658],\n",
              "        [-0.81964194,  0.40189603,  0.40824829]]))"
            ]
          },
          "metadata": {},
          "execution_count": 107
        }
      ]
    },
    {
      "cell_type": "markdown",
      "source": [
        "#V"
      ],
      "metadata": {
        "id": "YywYJsgaQV0W"
      }
    },
    {
      "cell_type": "code",
      "source": [
        "temp=matT@mat\n",
        "e2,V=la.eig(temp)\n",
        "for i,e in enumerate(e2):\n",
        "    e2[i]=round(e,8)\n",
        "e2,V"
      ],
      "metadata": {
        "colab": {
          "base_uri": "https://localhost:8080/"
        },
        "id": "kqL3gPI9QXT4",
        "outputId": "55e8704c-f4cf-4cc9-bd8e-fa8eee3c068c"
      },
      "execution_count": null,
      "outputs": [
        {
          "output_type": "execute_result",
          "data": {
            "text/plain": [
              "(array([ 0.26450509, 90.73549491]),\n",
              " array([[-0.78489445, -0.61962948],\n",
              "        [ 0.61962948, -0.78489445]]))"
            ]
          },
          "metadata": {},
          "execution_count": 108
        }
      ]
    },
    {
      "cell_type": "code",
      "source": [
        "L=np.zeros(mat.shape)\n",
        "i=0\n",
        "for ele in e1:\n",
        "    if ele in e2:\n",
        "        L[i,i]=np.sqrt(ele)\n",
        "        i+=1\n",
        "L"
      ],
      "metadata": {
        "colab": {
          "base_uri": "https://localhost:8080/"
        },
        "id": "vxkoLbUxURIB",
        "outputId": "ce6103b3-59ec-43de-f025-af31be64e43f"
      },
      "execution_count": null,
      "outputs": [
        {
          "output_type": "execute_result",
          "data": {
            "text/plain": [
              "array([[9.52551809, 0.        ],\n",
              "       [0.        , 0.51430058],\n",
              "       [0.        , 0.        ]])"
            ]
          },
          "metadata": {},
          "execution_count": 109
        }
      ]
    },
    {
      "cell_type": "code",
      "source": [
        "A=U@L@V.T\n",
        "A"
      ],
      "metadata": {
        "colab": {
          "base_uri": "https://localhost:8080/"
        },
        "id": "Myzz9NFoZEut",
        "outputId": "01588075-eb86-4edd-ce71-4f6350a9530e"
      },
      "execution_count": null,
      "outputs": [
        {
          "output_type": "execute_result",
          "data": {
            "text/plain": [
              "array([[ 2., -1.],\n",
              "       [ 4., -3.],\n",
              "       [ 6., -5.]])"
            ]
          },
          "metadata": {},
          "execution_count": 110
        }
      ]
    }
  ]
}