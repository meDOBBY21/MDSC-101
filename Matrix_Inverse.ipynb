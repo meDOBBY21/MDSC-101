{
  "nbformat": 4,
  "nbformat_minor": 0,
  "metadata": {
    "colab": {
      "provenance": [],
      "authorship_tag": "ABX9TyO8YMD8zaPEdIa0nhRJk0U2",
      "include_colab_link": true
    },
    "kernelspec": {
      "name": "python3",
      "display_name": "Python 3"
    },
    "language_info": {
      "name": "python"
    }
  },
  "cells": [
    {
      "cell_type": "markdown",
      "metadata": {
        "id": "view-in-github",
        "colab_type": "text"
      },
      "source": [
        "<a href=\"https://colab.research.google.com/github/meDOBBY21/MDSC-101/blob/main/Matrix_Inverse.ipynb\" target=\"_parent\"><img src=\"https://colab.research.google.com/assets/colab-badge.svg\" alt=\"Open In Colab\"/></a>"
      ]
    },
    {
      "cell_type": "markdown",
      "source": [
        "#**Inverse of a Matrix**"
      ],
      "metadata": {
        "id": "biE3chvANQRj"
      }
    },
    {
      "cell_type": "markdown",
      "source": [
        "Creating a matrix for given dimension"
      ],
      "metadata": {
        "id": "GJHuqpUBNYaP"
      }
    },
    {
      "cell_type": "code",
      "execution_count": 3,
      "metadata": {
        "id": "QKv03_WrNO-y"
      },
      "outputs": [],
      "source": [
        "def create_matrix(m):\n",
        "\tmatrix=[]\n",
        "\tfor i in range(m):\n",
        "\t\ttemp=0\n",
        "\t\trow=[]\n",
        "\t\twhile(temp!=m):\n",
        "\t\t\tprint(\"Row \",i+1,\":\",end=\"\")\n",
        "\t\t\trow = list(map(int,input().split()))\n",
        "\t\t\ttemp=len(row)\n",
        "\t\tmatrix.append(row)\n",
        "\treturn matrix"
      ]
    },
    {
      "cell_type": "markdown",
      "source": [
        "Creating a sub-matrix for a given matrix removing ith row and jth col"
      ],
      "metadata": {
        "id": "tUGc89IONimy"
      }
    },
    {
      "cell_type": "code",
      "source": [
        "def subMatrix(matrix,k,l):\n",
        "\tsubMat=[]\n",
        "\tfor i in range(len(matrix)):\n",
        "\t\tif i!=k:\n",
        "\t\t\trow=[]\n",
        "\t\t\tfor j in range(len(matrix)):\n",
        "\t\t\t\tif j!=l:\n",
        "\t\t\t\t\trow.append(matrix[i][j])\n",
        "\t\t\tsubMat.append(row)\n",
        "\treturn subMat"
      ],
      "metadata": {
        "id": "68o1sAQCNuaS"
      },
      "execution_count": 4,
      "outputs": []
    },
    {
      "cell_type": "markdown",
      "source": [
        "Finding Determinent of a matrix using recursion"
      ],
      "metadata": {
        "id": "b8mW7EbrNxHq"
      }
    },
    {
      "cell_type": "code",
      "source": [
        "def det(matrix):\n",
        "\tif len(matrix)==1:\n",
        "\t\treturn matrix[0][0]\n",
        "\n",
        "\tresult=0\n",
        "\tfor i in range(len(matrix)):\n",
        "\t\tsubMat=subMatrix(matrix,0,i)\n",
        "\t\tif i%2==0:\n",
        "\t\t\tresult+=(matrix[0][i]*det(subMat))\n",
        "\t\telse:\n",
        "\t\t\tresult-=(matrix[0][i]*det(subMat))\n",
        "\treturn result"
      ],
      "metadata": {
        "id": "rDjzKf9CN3CD"
      },
      "execution_count": 5,
      "outputs": []
    },
    {
      "cell_type": "markdown",
      "source": [
        "Creating co-factor matrix using the determinent function"
      ],
      "metadata": {
        "id": "HJIsgcjoN5Ea"
      }
    },
    {
      "cell_type": "code",
      "source": [
        "def coFactor(matrix):\n",
        "\tif len(matrix)==1:\n",
        "\t\treturn matrix\n",
        "\n",
        "\tcoFact=[]\n",
        "\tfor i in range(len(matrix)):\n",
        "\t\trow=[]\n",
        "\t\tfor j in range(len(matrix)):\n",
        "\t\t\tsubMat=subMatrix(matrix,i,j)\n",
        "\t\t\tdeterminent=det(subMat)\n",
        "\t\t\trow.append(((-1)**(i+j))*determinent)\n",
        "\t\tcoFact.append(row)\n",
        "\treturn coFact"
      ],
      "metadata": {
        "id": "yEMw-_YhOB03"
      },
      "execution_count": 6,
      "outputs": []
    },
    {
      "cell_type": "markdown",
      "source": [
        "Finding inverse of a matrix\n",
        "\n",
        "$A^{-1}$ = $1/{|A|}$ X [Co Factor matrix of A]"
      ],
      "metadata": {
        "id": "a6QIb692OFDt"
      }
    },
    {
      "cell_type": "code",
      "source": [
        "def inverse(coFact,determinent):\n",
        "\tinverseMatrix=[]\n",
        "\tfor i in range(len(coFact)):\n",
        "\t\trow=[]\n",
        "\t\tfor j in range(len(coFact)):\n",
        "\t\t\trow.append((1/determinent)*coFact[j][i])\n",
        "\t\tinverseMatrix.append(row)\n",
        "\treturn inverseMatrix"
      ],
      "metadata": {
        "id": "T61bUSg2PFus"
      },
      "execution_count": 7,
      "outputs": []
    },
    {
      "cell_type": "markdown",
      "source": [
        "Display function to display the matrix"
      ],
      "metadata": {
        "id": "Hatv1jCqPKbp"
      }
    },
    {
      "cell_type": "code",
      "source": [
        "def display(matrix):\n",
        "\tprint()\n",
        "\tfor i in matrix:\n",
        "\t\tprint(i)\n",
        "\tprint()"
      ],
      "metadata": {
        "id": "wkqOOdG0PIQ1"
      },
      "execution_count": 8,
      "outputs": []
    },
    {
      "cell_type": "markdown",
      "source": [
        "Taking dim input and creating matrix using create_matrix function"
      ],
      "metadata": {
        "id": "hdRetQi4PQN1"
      }
    },
    {
      "cell_type": "code",
      "source": [
        "print(\"Matrix Determinent:\")\n",
        "m = int(input(\"Dimensions(NxN):\"))\n",
        "\n",
        "matrix=create_matrix(m)"
      ],
      "metadata": {
        "colab": {
          "base_uri": "https://localhost:8080/"
        },
        "id": "oji9yQUFPW_u",
        "outputId": "588aebaa-1c8e-427b-9aee-85c898d3dc2f"
      },
      "execution_count": 9,
      "outputs": [
        {
          "name": "stdout",
          "output_type": "stream",
          "text": [
            "Matrix Determinent:\n",
            "Dimensions(NxN):3\n",
            "Row  1 :1 2 3\n",
            "Row  2 :1 4 9\n",
            "Row  3 :1 8 27\n"
          ]
        }
      ]
    },
    {
      "cell_type": "markdown",
      "source": [
        "Finding\n",
        "\n",
        "*   Determinent\n",
        "*   Co Factor\n",
        "*   Inverse\n",
        "\n"
      ],
      "metadata": {
        "id": "sJVJCAgsPaIg"
      }
    },
    {
      "cell_type": "code",
      "source": [
        "determinent=det(matrix)\n",
        "coFact=coFactor(matrix)\n",
        "inverseMatrix=inverse(coFact,determinent)"
      ],
      "metadata": {
        "id": "mf3lmbvwPpvp"
      },
      "execution_count": 10,
      "outputs": []
    },
    {
      "cell_type": "markdown",
      "source": [
        "Printing Determinent"
      ],
      "metadata": {
        "id": "Z8uqvqfjP0oJ"
      }
    },
    {
      "cell_type": "code",
      "source": [
        "print(\"Determinent:{}\".format(determinent))"
      ],
      "metadata": {
        "colab": {
          "base_uri": "https://localhost:8080/"
        },
        "id": "XrsQVnXNPrm9",
        "outputId": "0145d3c7-a41e-4a79-c74e-bfbfee21a826"
      },
      "execution_count": 11,
      "outputs": [
        {
          "output_type": "stream",
          "name": "stdout",
          "text": [
            "Determinent:12\n"
          ]
        }
      ]
    },
    {
      "cell_type": "markdown",
      "source": [
        "Printing Co Factor Matrix"
      ],
      "metadata": {
        "id": "k14toejiP3tt"
      }
    },
    {
      "cell_type": "code",
      "source": [
        "print(\"Co Factor:\")\n",
        "display(coFact)"
      ],
      "metadata": {
        "colab": {
          "base_uri": "https://localhost:8080/"
        },
        "id": "L_caq6BQPxDV",
        "outputId": "aa4f79ce-2987-4875-edf5-d2ee1602e580"
      },
      "execution_count": 12,
      "outputs": [
        {
          "output_type": "stream",
          "name": "stdout",
          "text": [
            "Co Factor:\n",
            "\n",
            "[36, -18, 4]\n",
            "[-30, 24, -6]\n",
            "[6, -6, 2]\n",
            "\n"
          ]
        }
      ]
    },
    {
      "cell_type": "markdown",
      "source": [
        "Printing Inverse"
      ],
      "metadata": {
        "id": "-AUq4AD3P7NZ"
      }
    },
    {
      "cell_type": "code",
      "source": [
        "print(\"Inverse:\")\n",
        "display(inverseMatrix)"
      ],
      "metadata": {
        "colab": {
          "base_uri": "https://localhost:8080/"
        },
        "id": "OezTrjFBPyjn",
        "outputId": "82c6c080-4692-4bf3-8d16-292f55f2822a"
      },
      "execution_count": 13,
      "outputs": [
        {
          "output_type": "stream",
          "name": "stdout",
          "text": [
            "Inverse:\n",
            "\n",
            "[3.0, -2.5, 0.5]\n",
            "[-1.5, 2.0, -0.5]\n",
            "[0.3333333333333333, -0.5, 0.16666666666666666]\n",
            "\n"
          ]
        }
      ]
    }
  ]
}